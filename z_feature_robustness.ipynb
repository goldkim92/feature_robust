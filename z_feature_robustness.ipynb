{
 "cells": [
  {
   "cell_type": "code",
   "execution_count": 1,
   "metadata": {},
   "outputs": [],
   "source": [
    "import os\n",
    "os.environ[\"CUDA_DEVICE_ORDER\"]=\"PCI_BUS_ID\"\n",
    "os.environ[\"CUDA_VISIBLE_DEVICES\"]='1'"
   ]
  },
  {
   "cell_type": "code",
   "execution_count": 2,
   "metadata": {},
   "outputs": [],
   "source": [
    "import os\n",
    "from os.path import join, expanduser\n",
    "import matplotlib.pyplot as plt\n",
    "import numpy as np\n",
    "\n",
    "import torch\n",
    "import torchvision as tv\n",
    "\n",
    "import dataloader\n",
    "import util\n",
    "from cam import CAM\n",
    "import attack"
   ]
  },
  {
   "cell_type": "code",
   "execution_count": 3,
   "metadata": {},
   "outputs": [],
   "source": [
    "idx2ctgr, name2idx = dataloader.get_class_dict(join(expanduser('~'),'data','imagenet'))\n",
    "norm = tv.transforms.Normalize(mean=[0.485, 0.456, 0.406],\n",
    "                               std=[0.229, 0.224, 0.225])\n",
    "unnorm = util.UnNormalize(mean=[0.485, 0.456, 0.406],\n",
    "                          std=[0.229, 0.224, 0.225])"
   ]
  },
  {
   "cell_type": "code",
   "execution_count": 4,
   "metadata": {},
   "outputs": [],
   "source": [
    "solver = CAM('vgg')\n",
    "device = solver.device\n",
    "model = solver.model\n",
    "valid_dataset = solver.valid_dataset"
   ]
  },
  {
   "cell_type": "code",
   "execution_count": 5,
   "metadata": {},
   "outputs": [
    {
     "data": {
      "text/plain": [
       "230"
      ]
     },
     "execution_count": 5,
     "metadata": {},
     "output_type": "execute_result"
    }
   ],
   "source": [
    "idx = 2\n",
    "input, target = solver.get_item(idx)\n",
    "img = tv.transforms.ToPILImage()(unnorm(input.squeeze(0).cpu().detach()))\n",
    "target.item()"
   ]
  },
  {
   "cell_type": "code",
   "execution_count": 6,
   "metadata": {},
   "outputs": [],
   "source": [
    "# weights = solver.get_weights(input, target.item(), norm=True)"
   ]
  },
  {
   "cell_type": "code",
   "execution_count": 7,
   "metadata": {},
   "outputs": [],
   "source": [
    "weights = 0\n",
    "for idx in range(1000):\n",
    "    input, target = solver.get_item(idx)\n",
    "    weights += solver.get_weights(input, target.item(), norm=True)"
   ]
  },
  {
   "cell_type": "code",
   "execution_count": 8,
   "metadata": {},
   "outputs": [
    {
     "data": {
      "text/plain": [
       "(array([ 52., 177., 212.,  50.,  16.,   1.,   3.,   0.,   0.,   1.]),\n",
       " array([-4.078659 , -2.3414223, -0.6041857,  1.133051 ,  2.8702877,\n",
       "         4.6075244,  6.344761 ,  8.081998 ,  9.819235 , 11.556471 ,\n",
       "        13.293708 ], dtype=float32),\n",
       " <a list of 10 Patch objects>)"
      ]
     },
     "execution_count": 8,
     "metadata": {},
     "output_type": "execute_result"
    },
    {
     "data": {
      "image/png": "[encoded data removed]",
      "text/plain": [
       "<Figure size 432x288 with 1 Axes>"
      ]
     },
     "metadata": {
      "needs_background": "light"
     },
     "output_type": "display_data"
    }
   ],
   "source": [
    "plt.hist(weights.cpu().numpy())"
   ]
  },
  {
   "cell_type": "code",
   "execution_count": null,
   "metadata": {},
   "outputs": [],
   "source": []
  },
  {
   "cell_type": "code",
   "execution_count": 9,
   "metadata": {},
   "outputs": [],
   "source": [
    "eps = 0.007\n",
    "adv_weights = 0\n",
    "for idx in range(1000):\n",
    "    input, target = solver.get_item(idx)\n",
    "    adv_attack = attack.attack_fgsm(model, input, target, eps)\n",
    "    adv_img = attack.get_adversarial_image(img, adv_attack)\n",
    "    adv_input = attack.image2input(adv_img, norm, device)\n",
    "    adv_weights += solver.get_weights(adv_input, target.item(), norm=True)\n",
    "# attack.inference(model, adv_input, idx2ctgr)"
   ]
  },
  {
   "cell_type": "code",
   "execution_count": 10,
   "metadata": {},
   "outputs": [
    {
     "data": {
      "text/plain": [
       "(array([  4.,  17.,  34.,  86., 137., 119.,  66.,  32.,  15.,   2.]),\n",
       " array([-0.1265293 , -0.10080118, -0.07507305, -0.04934492, -0.0236168 ,\n",
       "         0.00211133,  0.02783946,  0.05356758,  0.07929571,  0.10502384,\n",
       "         0.13075197], dtype=float32),\n",
       " <a list of 10 Patch objects>)"
      ]
     },
     "execution_count": 10,
     "metadata": {},
     "output_type": "execute_result"
    },
    {
     "data": {
      "image/png": "[encoded data removed]",
      "text/plain": [
       "<Figure size 432x288 with 1 Axes>"
      ]
     },
     "metadata": {
      "needs_background": "light"
     },
     "output_type": "display_data"
    }
   ],
   "source": [
    "plt.hist(adv_weights.cpu().numpy())"
   ]
  },
  {
   "cell_type": "code",
   "execution_count": null,
   "metadata": {},
   "outputs": [],
   "source": []
  }
 ],
 "metadata": {
  "kernelspec": {
   "display_name": "Python (torch)",
   "language": "python",
   "name": "torch"
  },
  "language_info": {
   "codemirror_mode": {
    "name": "ipython",
    "version": 3
   },
   "file_extension": ".py",
   "mimetype": "text/x-python",
   "name": "python",
   "nbconvert_exporter": "python",
   "pygments_lexer": "ipython3",
   "version": "3.6.9"
  }
 },
 "nbformat": 4,
 "nbformat_minor": 2
}
